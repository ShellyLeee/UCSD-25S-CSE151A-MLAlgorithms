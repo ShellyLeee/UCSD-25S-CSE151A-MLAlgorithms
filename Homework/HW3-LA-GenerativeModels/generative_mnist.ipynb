{
 "cells": [
  {
   "cell_type": "markdown",
   "metadata": {},
   "source": [
    "# Gaussian generative models for handwritten digit classification"
   ]
  },
  {
   "cell_type": "markdown",
   "metadata": {},
   "source": [
    "Recall that the 1-NN classifier yielded a 3.09% test error rate on the MNIST data set of handwritten digits. We will now see that a Gaussian generative model does pretty well also, while being significantly faster and more compact."
   ]
  },
  {
   "cell_type": "markdown",
   "metadata": {},
   "source": [
    "## 1. Set up notebook and load in data"
   ]
  },
  {
   "cell_type": "markdown",
   "metadata": {},
   "source": [
    "As usual, we start by importing the required packages and data. For this notebook we will be using the *entire* `MNIST` dataset. The code below defines some helper functions that will load `MNIST` onto your computer."
   ]
  },
  {
   "cell_type": "code",
   "execution_count": 3,
   "metadata": {},
   "outputs": [],
   "source": [
    "%matplotlib inline\n",
    "import matplotlib.pyplot as plt \n",
    "import gzip, os\n",
    "import numpy as np\n",
    "from scipy.stats import multivariate_normal"
   ]
  },
  {
   "cell_type": "code",
   "execution_count": 4,
   "metadata": {},
   "outputs": [],
   "source": [
    "#\n",
    "# Code to read in the MNIST data set\n",
    "# Make sure you have the four gzipped files containing the data\n",
    "#\n",
    "def load_mnist_images(filename):\n",
    "    with gzip.open(filename, 'rb') as f:\n",
    "        data = np.frombuffer(f.read(), np.uint8, offset=16)\n",
    "    data = data.reshape(-1,784)\n",
    "    return data\n",
    "\n",
    "def load_mnist_labels(filename):\n",
    "    with gzip.open(filename, 'rb') as f:\n",
    "        data = np.frombuffer(f.read(), np.uint8, offset=8)\n",
    "    return data"
   ]
  },
  {
   "cell_type": "markdown",
   "metadata": {},
   "source": [
    "Now load in the training set and test set"
   ]
  },
  {
   "cell_type": "code",
   "execution_count": 5,
   "metadata": {},
   "outputs": [],
   "source": [
    "## Load the training set\n",
    "train_data = load_mnist_images('train-images-idx3-ubyte.gz')\n",
    "train_labels = load_mnist_labels('train-labels-idx1-ubyte.gz')\n",
    "\n",
    "## Load the test set\n",
    "test_data = load_mnist_images('t10k-images-idx3-ubyte.gz')\n",
    "test_labels = load_mnist_labels('t10k-labels-idx1-ubyte.gz')"
   ]
  },
  {
   "cell_type": "markdown",
   "metadata": {},
   "source": [
    "The function **displaychar** shows a single MNIST digit. To do this, it first has to reshape the 784-dimensional vector into a 28x28 image."
   ]
  },
  {
   "cell_type": "code",
   "execution_count": 6,
   "metadata": {},
   "outputs": [],
   "source": [
    "def displaychar(image):\n",
    "    plt.imshow(np.reshape(image, (28,28)), cmap=plt.cm.gray)\n",
    "    plt.axis('off')\n",
    "    plt.show()"
   ]
  },
  {
   "cell_type": "code",
   "execution_count": 7,
   "metadata": {},
   "outputs": [
    {
     "data": {
      "image/png": "[encoded data removed]",
      "text/plain": [
       "<Figure size 640x480 with 1 Axes>"
      ]
     },
     "metadata": {},
     "output_type": "display_data"
    }
   ],
   "source": [
    "displaychar(train_data[58])"
   ]
  },
  {
   "cell_type": "markdown",
   "metadata": {},
   "source": [
    "The training set consists of 60,000 images. Thus `train_data` should be a 60000x784 array while `train_labels` should be 60000x1. Let's check."
   ]
  },
  {
   "cell_type": "code",
   "execution_count": 15,
   "metadata": {},
   "outputs": [
    {
     "data": {
      "text/plain": [
       "((60000, 784), (60000,))"
      ]
     },
     "execution_count": 15,
     "metadata": {},
     "output_type": "execute_result"
    }
   ],
   "source": [
    "train_data.shape, train_labels.shape"
   ]
  },
  {
   "cell_type": "markdown",
   "metadata": {},
   "source": [
    "## 2. Fit a Gaussian generative model to the training data"
   ]
  },
  {
   "cell_type": "markdown",
   "metadata": {},
   "source": [
    "**<font color=\"magenta\">For you to do:</font>** Define a function, **fit_generative_model**, that takes as input a training set (data `x` and labels `y`) and fits a Gaussian generative model to it. It should return the parameters of this generative model; for each label `j = 0,1,...,9`, we have:\n",
    "* `pi[j]`: the frequency of that label\n",
    "* `mu[j]`: the 784-dimensional mean vector\n",
    "* `sigma[j]`: the 784x784 covariance matrix\n",
    "\n",
    "This means that `pi` is 10x1, `mu` is 10x784, and `sigma` is 10x784x784.\n",
    "\n",
    "We have already seen how to fit a Gaussian generative model in the Winery example, but now there is an added ingredient. <font color=\"magenta\">The empirical covariances are very likely to be singular (or close to singular), which means that we won't be able to do calculations with them</font>. Thus it is important to **regularize** these matrices. The standard way of doing this is to add `cI` to them, where `c` is some constant and `I` is the 784-dimensional identity matrix. (To put it another way, we compute the empirical covariances and then increase their diagonal entries by some constant `c`.)\n",
    "\n",
    "This modification is guaranteed to yield covariance matrices that are non-singular, for any `c > 0`, no matter how small. But this doesn't mean that we should make `c` as small as possible. Indeed, `c` is now a parameter, and by setting it appropriately, we can improve the performance of the model. We will study **regularization** in greater detail over the coming weeks.\n",
    "\n",
    "Your routine needs to choose a good setting of `c`. Crucially, this needs to be done using the training set alone. So you might try setting aside part of the training set as a validation set, or using some kind of cross-validation."
   ]
  },
  {
   "cell_type": "code",
   "execution_count": null,
   "metadata": {},
   "outputs": [],
   "source": [
    "import numpy as np\n",
    "from sklearn.metrics import accuracy_score\n",
    "from sklearn.model_selection import train_test_split\n",
    "\n",
    "def fit_generative_model(x, y):\n",
    "    np.random.seed(42)  # Random seed\n",
    "    k = 10  # number of classes\n",
    "    d = x.shape[1]  # number of features\n",
    "\n",
    "    mu = np.zeros((k, d))\n",
    "    sigma = np.zeros((k, d, d))\n",
    "    pi = np.zeros(k)\n",
    "\n",
    "    # Stratified train/validation data set split\n",
    "    x_train, x_validation, y_train, y_validation = train_test_split(\n",
    "        x, y, test_size=1/6, stratify=y, random_state=42\n",
    "    )\n",
    "\n",
    "    candidate_c = [1e-6, 1e-5, 1e-4, 1e-3, 1e-2, 0.1, 1, 5, 10, 20, 50, 80, 100, 500, 1000, 5000, 10000, 100000]\n",
    "    best_c = None\n",
    "    best_acc = -1\n",
    "\n",
    "    # Test all the candidate c\n",
    "    for c in candidate_c:\n",
    "        mu_tmp = np.zeros((k, d))\n",
    "        sigma_tmp = np.zeros((k, d, d))\n",
    "        pi_tmp = np.zeros(k)\n",
    "\n",
    "        # For each class, calculate prior distribution on x_train\n",
    "        for j in range(k):\n",
    "            xj = x_train[y_train == j]\n",
    "            pi_tmp[j] = len(xj) / len(x_train)\n",
    "            mu_tmp[j] = np.mean(xj, axis=0)\n",
    "            centered = xj - mu_tmp[j]\n",
    "            cov = centered.T @ centered / len(xj)\n",
    "            cov += c * np.eye(d)\n",
    "            sigma_tmp[j] = cov\n",
    "\n",
    "        # Fit the model and get the multivariate distribution\n",
    "        score = np.zeros((len(y_validation), k))\n",
    "\n",
    "        for label in range(k):\n",
    "            try:\n",
    "                rv = multivariate_normal(mean=mu_tmp[label], cov=sigma_tmp[label], allow_singular=True)\n",
    "            except np.linalg.LinAlgError:\n",
    "                print(f\"Warning: Class {label} covariance matrix is singular at c = {c}\")\n",
    "                continue\n",
    "            # Obtain the prob distribution of each label in y_validatuon\n",
    "            for i in range(len(y_validation)):\n",
    "                score[i, label] = np.log(pi_tmp[label]) + rv.logpdf(x_validation[i, :])\n",
    "\n",
    "        # Use validation data set to test the accuracy of different c\n",
    "        predictions = np.argmax(score, axis=1)\n",
    "        acc = accuracy_score(y_validation, predictions)\n",
    "        print(f\"Validation accuracy for c={c:.4g}: {acc:.4f}\")\n",
    "\n",
    "        if acc > best_acc:\n",
    "            best_acc = acc\n",
    "            best_c = c\n",
    "            print(f\"✅ New best c found: {best_c}\")\n",
    "\n",
    "    # Final retrain using best_c\n",
    "    for j in range(k):\n",
    "        xj = x_train[y_train == j]\n",
    "        pi[j] = len(xj) / len(x_train)\n",
    "        mu[j] = np.mean(xj, axis=0)\n",
    "        centered = xj - mu[j]\n",
    "        cov = centered.T @ centered / len(xj)\n",
    "        cov += best_c * np.eye(d)\n",
    "        sigma[j] = cov\n",
    "\n",
    "    return mu, sigma, pi, best_c"
   ]
  },
  {
   "cell_type": "markdown",
   "metadata": {},
   "source": [
    "Okay, let's try out your function. In particular, we will use **displaychar** to visualize the means of the Gaussians for the first three digits. You can try the other digits on your own."
   ]
  },
  {
   "cell_type": "code",
   "execution_count": 31,
   "metadata": {},
   "outputs": [
    {
     "name": "stdout",
     "output_type": "stream",
     "text": [
      "Validation accuracy for c=1e-06: 0.7992\n",
      "✅ New best c found: 1e-06\n",
      "Validation accuracy for c=1e-05: 0.7992\n",
      "Validation accuracy for c=0.0001: 0.4938\n",
      "Validation accuracy for c=0.001: 0.7506\n",
      "Validation accuracy for c=0.01: 0.7739\n",
      "Validation accuracy for c=0.1: 0.8006\n",
      "✅ New best c found: 0.1\n",
      "Validation accuracy for c=1: 0.8285\n",
      "✅ New best c found: 1\n",
      "Validation accuracy for c=5: 0.8548\n",
      "✅ New best c found: 5\n",
      "Validation accuracy for c=10: 0.8675\n",
      "✅ New best c found: 10\n",
      "Validation accuracy for c=20: 0.8808\n",
      "✅ New best c found: 20\n",
      "Validation accuracy for c=50: 0.8986\n",
      "✅ New best c found: 50\n",
      "Validation accuracy for c=80: 0.9082\n",
      "✅ New best c found: 80\n",
      "Validation accuracy for c=100: 0.9130\n",
      "✅ New best c found: 100\n",
      "Validation accuracy for c=500: 0.9370\n",
      "✅ New best c found: 500\n",
      "Validation accuracy for c=1000: 0.9444\n",
      "✅ New best c found: 1000\n",
      "Validation accuracy for c=5000: 0.9490\n",
      "✅ New best c found: 5000\n",
      "Validation accuracy for c=1e+04: 0.9427\n",
      "Validation accuracy for c=1e+05: 0.8431\n"
     ]
    },
    {
     "data": {
      "image/png": "[encoded data removed]",
      "text/plain": [
       "<Figure size 640x480 with 1 Axes>"
      ]
     },
     "metadata": {},
     "output_type": "display_data"
    },
    {
     "data": {
      "image/png": "[encoded data removed]",
      "text/plain": [
       "<Figure size 640x480 with 1 Axes>"
      ]
     },
     "metadata": {},
     "output_type": "display_data"
    },
    {
     "data": {
      "image/png": "[encoded data removed]",
      "text/plain": [
       "<Figure size 640x480 with 1 Axes>"
      ]
     },
     "metadata": {},
     "output_type": "display_data"
    }
   ],
   "source": [
    "mu, sigma, pi, best_c = fit_generative_model(train_data, train_labels)\n",
    "displaychar(mu[0])\n",
    "displaychar(mu[1])\n",
    "displaychar(mu[2])"
   ]
  },
  {
   "cell_type": "code",
   "execution_count": 32,
   "metadata": {},
   "outputs": [
    {
     "name": "stdout",
     "output_type": "stream",
     "text": [
      "5000\n"
     ]
    }
   ],
   "source": [
    "print(best_c)"
   ]
  },
  {
   "cell_type": "markdown",
   "metadata": {},
   "source": [
    "## 3. Make predictions on test data"
   ]
  },
  {
   "cell_type": "markdown",
   "metadata": {},
   "source": [
    "Now let's see how many errors your model makes on the test set."
   ]
  },
  {
   "cell_type": "code",
   "execution_count": 35,
   "metadata": {},
   "outputs": [
    {
     "name": "stdout",
     "output_type": "stream",
     "text": [
      "Your model makes 434 errors out of 10000\n"
     ]
    }
   ],
   "source": [
    "#\n",
    "# Compute log Pr(label|image) for each [test image,label] pair.\n",
    "#\n",
    "k = mu.shape[0]\n",
    "score = np.zeros((len(test_labels),k))\n",
    "for label in range(0,k):\n",
    "    rv = multivariate_normal(mean=mu[label], cov=sigma[label])\n",
    "    for i in range(0,len(test_labels)):\n",
    "       score[i,label] = np.log(pi[label]) + rv.logpdf(test_data[i,:])\n",
    "predictions = np.argmax(score, axis=1)\n",
    "#\n",
    "# Finally, tally up score\n",
    "#\n",
    "errors = np.sum(predictions != test_labels)\n",
    "print(\"Your model makes \" + str(errors) + \" errors out of 10000\")"
   ]
  },
  {
   "cell_type": "code",
   "execution_count": 39,
   "metadata": {},
   "outputs": [
    {
     "data": {
      "image/png": "[encoded data removed]",
      "text/plain": [
       "<Figure size 640x480 with 1 Axes>"
      ]
     },
     "metadata": {},
     "output_type": "display_data"
    },
    {
     "data": {
      "image/png": "[encoded data removed]",
      "text/plain": [
       "<Figure size 640x480 with 1 Axes>"
      ]
     },
     "metadata": {},
     "output_type": "display_data"
    },
    {
     "data": {
      "image/png": "[encoded data removed]",
      "text/plain": [
       "<Figure size 640x480 with 1 Axes>"
      ]
     },
     "metadata": {},
     "output_type": "display_data"
    },
    {
     "data": {
      "image/png": "[encoded data removed]",
      "text/plain": [
       "<Figure size 640x480 with 1 Axes>"
      ]
     },
     "metadata": {},
     "output_type": "display_data"
    },
    {
     "data": {
      "image/png": "[encoded data removed]",
      "text/plain": [
       "<Figure size 640x480 with 1 Axes>"
      ]
     },
     "metadata": {},
     "output_type": "display_data"
    }
   ],
   "source": [
    "misclassified_idx = np.where(predictions != test_labels)[0]\n",
    "\n",
    "# Randomly select five misclassified digits\n",
    "np.random.seed(42)\n",
    "selected_indices = np.random.choice(misclassified_idx, size=5, replace=False)\n",
    "\n",
    "selected_true_labels = [test_labels[idx] for idx in selected_indices]\n",
    "selected_pred_labels = [predictions[idx] for idx in selected_indices]\n",
    "selected_images = [test_data[idx].reshape(28, 28) for idx in selected_indices] # Reshape for MNIST\n",
    "\n",
    "for i in range(len(selected_indices)):\n",
    "    plt.title(f'True Label: {selected_true_labels[i]}\\nPredicted Label: {selected_pred_labels[i]}')\n",
    "    displaychar(selected_images[i])"
   ]
  },
  {
   "cell_type": "markdown",
   "metadata": {},
   "source": [
    "## 4. Things to ponder\n",
    "\n",
    "* What happens if you do not regularize the covariance matrices?\n",
    "* What happens if you set the value of `c` too high, for instance to one billion? Do you understand why this happens?\n",
    "* What value of c did you end up using? How many errors did your model make on the training set?\n",
    "* We have talked about using the same regularization constant `c` for all ten classes. What about using a different value of `c` for each class? How would you go about choosing these? Can you get better performance in this way?"
   ]
  },
  {
   "cell_type": "markdown",
   "metadata": {},
   "source": [
    "1. Without regularization, the covariance matrices might be non-singular.\n",
    "\n",
    "2. If the c is too high (i.e. c=1000000), the accuracy of the validation set...\n",
    "\n",
    "3. I end up using c=... In the training set, my model makes ...\n",
    "\n",
    "4. 这样做会导致过拟合吗？？？"
   ]
  }
 ],
 "metadata": {
  "kernelspec": {
   "display_name": "base",
   "language": "python",
   "name": "python3"
  },
  "language_info": {
   "codemirror_mode": {
    "name": "ipython",
    "version": 3
   },
   "file_extension": ".py",
   "mimetype": "text/x-python",
   "name": "python",
   "nbconvert_exporter": "python",
   "pygments_lexer": "ipython3",
   "version": "3.11.5"
  },
  "toc": {
   "colors": {
    "hover_highlight": "#DAA520",
    "navigate_num": "#000000",
    "navigate_text": "#333333",
    "running_highlight": "#FF0000",
    "selected_highlight": "#FFD700",
    "sidebar_border": "#EEEEEE",
    "wrapper_background": "#FFFFFF"
   },
   "moveMenuLeft": true,
   "nav_menu": {
    "height": "12px",
    "width": "252px"
   },
   "navigate_menu": true,
   "number_sections": false,
   "sideBar": true,
   "threshold": 4,
   "toc_cell": false,
   "toc_section_display": "block",
   "toc_window_display": false,
   "widenNotebook": false
  }
 },
 "nbformat": 4,
 "nbformat_minor": 1
}
