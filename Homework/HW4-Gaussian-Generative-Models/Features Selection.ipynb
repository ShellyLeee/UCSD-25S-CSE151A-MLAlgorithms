{
 "cells": [
  {
   "cell_type": "markdown",
   "id": "8a6ca146",
   "metadata": {},
   "source": [
    "# Descovering Relevant features in regression"
   ]
  },
  {
   "cell_type": "code",
   "execution_count": 15,
   "id": "380297ca",
   "metadata": {},
   "outputs": [],
   "source": [
    "import pandas as pd\n",
    "\n",
    "# Read data\n",
    "data = pd.read_csv('mystery.dat', header=None)\n",
    "\n",
    "# split x and y\n",
    "X = data.iloc[:, :-1]  # First 100 columns: x\n",
    "y = data.iloc[:, -1]   # The last column: y\n"
   ]
  },
  {
   "cell_type": "code",
   "execution_count": 20,
   "id": "5da9cc51",
   "metadata": {},
   "outputs": [],
   "source": [
    "from sklearn.linear_model import Lasso\n",
    "\n",
    "# 初始化Lasso，设置一个适中的alpha（正则化强度），比如0.1\n",
    "model = Lasso(alpha=0.5)\n",
    "\n",
    "# Train the Lasso model\n",
    "model.fit(X, y)\n",
    "\n",
    "# Figure out the features\n",
    "coef = model.coef_\n"
   ]
  },
  {
   "cell_type": "code",
   "execution_count": 21,
   "id": "f83d8c01",
   "metadata": {},
   "outputs": [
    {
     "name": "stdout",
     "output_type": "stream",
     "text": [
      "Selected feature indices: [2, 3, 5, 7, 11, 13, 17, 19, 23, 27]\n"
     ]
    }
   ],
   "source": [
    "# Find the features with coefficient more than zero\n",
    "selected_features = [i+1 for i, c in enumerate(coef) if abs(c) > 1e-5]\n",
    "\n",
    "print(\"Selected feature indices:\", selected_features)\n"
   ]
  },
  {
   "cell_type": "markdown",
   "id": "9192e761",
   "metadata": {},
   "source": [
    "When alpha = 0.5, the number of the selected features is ten exactly."
   ]
  },
  {
   "cell_type": "code",
   "execution_count": null,
   "id": "95690b9e",
   "metadata": {},
   "outputs": [],
   "source": []
  }
 ],
 "metadata": {
  "kernelspec": {
   "display_name": "base",
   "language": "python",
   "name": "python3"
  },
  "language_info": {
   "codemirror_mode": {
    "name": "ipython",
    "version": 3
   },
   "file_extension": ".py",
   "mimetype": "text/x-python",
   "name": "python",
   "nbconvert_exporter": "python",
   "pygments_lexer": "ipython3",
   "version": "3.12.7"
  }
 },
 "nbformat": 4,
 "nbformat_minor": 5
}
