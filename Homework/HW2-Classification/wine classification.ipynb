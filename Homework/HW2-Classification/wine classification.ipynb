{
 "cells": [
  {
   "cell_type": "markdown",
   "id": "afcfe61c",
   "metadata": {},
   "source": [
    "# Cross-validation for NN classification on Wine data set"
   ]
  },
  {
   "cell_type": "code",
   "execution_count": 25,
   "id": "5dfe889b",
   "metadata": {},
   "outputs": [],
   "source": [
    "import numpy as np\n",
    "import time\n",
    "import matplotlib.pyplot as plt \n",
    "from sklearn.metrics import confusion_matrix, ConfusionMatrixDisplay\n",
    "\n",
    "## Load data set\n",
    "raw_data = np.loadtxt('wine.data.txt', delimiter=',')\n",
    "\n",
    "## Split the train and test data set\n",
    "data = raw_data[:, 1:]\n",
    "labels = raw_data[:, 0]"
   ]
  },
  {
   "cell_type": "markdown",
   "id": "e652b533",
   "metadata": {},
   "source": []
  },
  {
   "cell_type": "code",
   "execution_count": 26,
   "id": "a00fcd03",
   "metadata": {},
   "outputs": [
    {
     "name": "stdout",
     "output_type": "stream",
     "text": [
      "[1.423e+01 1.710e+00 2.430e+00 1.560e+01 1.270e+02 2.800e+00 3.060e+00\n",
      " 2.800e-01 2.290e+00 5.640e+00 1.040e+00 3.920e+00 1.065e+03]\n",
      "1.0\n",
      "Training dataset dimensions:  (178, 13)\n",
      "Number of training labels:  178\n"
     ]
    }
   ],
   "source": [
    "print(data[0])\n",
    "print(labels[0])\n",
    "print(\"Training dataset dimensions: \", np.shape(data))\n",
    "print(\"Number of training labels: \", len(labels))"
   ]
  },
  {
   "cell_type": "markdown",
   "id": "f83d987a",
   "metadata": {},
   "source": [
    "## Method 1: hand-made Interpretation\n",
    "\n",
    "### Question 1"
   ]
  },
  {
   "cell_type": "code",
   "execution_count": 35,
   "id": "fe674272",
   "metadata": {},
   "outputs": [],
   "source": [
    "## Computes the Euclidean distance between two vectors.\n",
    "def l2_dist(x1, x2):\n",
    "    return np.sqrt(np.sum((x1 - x2) ** 2))"
   ]
  },
  {
   "cell_type": "code",
   "execution_count": 36,
   "id": "41caa1fc",
   "metadata": {},
   "outputs": [],
   "source": [
    "## Takes a vector x and returns the index of its nearest neighbor in train_data\n",
    "def l2_find_NN(x, X, Y):\n",
    "    # Compute distances from x to every row in train_data\n",
    "    l2_distances = [l2_dist(x, X[i,]) for i in range(len(Y))]\n",
    "    # Get the index of the smallest distance\n",
    "    return np.argmin(l2_distances)\n",
    "\n",
    "## Takes a vector x and returns the class of its nearest neighbor in train_data\n",
    "def l2_NN_classifier(x, X, Y):\n",
    "    # Get the index of the the nearest neighbor\n",
    "    index = l2_find_NN(x, X, Y)\n",
    "    # Return its class\n",
    "    return Y[index]\n",
    "\n",
    "## LOOCV Implementation\n",
    "def loocv_knn(data, labels):\n",
    "    n_samples = len(data)\n",
    "    y_pred = []\n",
    "    \n",
    "    # Each turn: take i as test data\n",
    "    for i in range(n_samples):\n",
    "        # Split the train and test data set\n",
    "        test_idx = i\n",
    "        train_idx = [j for j in range(n_samples) if j != i]\n",
    "\n",
    "        X = data[train_idx]\n",
    "        Y= labels[train_idx]\n",
    "        \n",
    "        # Calculate the prediction\n",
    "        pred = l2_NN_classifier(data[test_idx], X, Y)\n",
    "        y_pred.append(pred)\n",
    "    \n",
    "    return np.array(y_pred)\n"
   ]
  },
  {
   "cell_type": "code",
   "execution_count": 37,
   "id": "ed1fa605",
   "metadata": {},
   "outputs": [
    {
     "name": "stdout",
     "output_type": "stream",
     "text": [
      "[1. 1. 1. 1. 2. 1. 1. 1. 1. 1. 1. 1. 1. 1. 1. 1. 1. 1. 1. 3. 1. 3. 1. 1.\n",
      " 3. 3. 1. 1. 1. 1. 1. 1. 1. 1. 1. 1. 1. 1. 1. 2. 1. 1. 1. 2. 1. 1. 1. 1.\n",
      " 1. 1. 1. 1. 1. 1. 1. 1. 1. 1. 1. 2. 1. 2. 2. 2. 2. 2. 2. 2. 3. 2. 1. 2.\n",
      " 3. 1. 1. 2. 2. 3. 1. 2. 2. 3. 2. 3. 3. 2. 2. 2. 2. 2. 2. 2. 2. 2. 2. 2.\n",
      " 3. 2. 3. 2. 2. 2. 2. 2. 2. 2. 2. 2. 2. 2. 3. 2. 3. 2. 2. 2. 2. 2. 2. 2.\n",
      " 2. 3. 2. 2. 2. 2. 2. 2. 2. 3. 3. 3. 3. 2. 3. 3. 3. 3. 2. 3. 3. 1. 3. 3.\n",
      " 1. 1. 2. 3. 3. 2. 2. 2. 2. 2. 2. 3. 3. 2. 3. 3. 3. 3. 2. 3. 3. 3. 3. 2.\n",
      " 3. 3. 3. 2. 2. 3. 3. 3. 3. 3.]\n"
     ]
    }
   ],
   "source": [
    "y_prediction = loocv_knn(data, labels)\n",
    "print(y_prediction)"
   ]
  },
  {
   "cell_type": "code",
   "execution_count": 38,
   "id": "4abc38c5",
   "metadata": {},
   "outputs": [
    {
     "name": "stdout",
     "output_type": "stream",
     "text": [
      "Accuracy of nearest neighbor classifier:  0.7696629213483146\n"
     ]
    }
   ],
   "source": [
    "## Compute the error\n",
    "accurate_positions = np.equal(y_prediction, labels)\n",
    "accuracy = float(np.sum(accurate_positions))/len(labels)\n",
    "\n",
    "print(\"Accuracy of nearest neighbor classifier: \", accuracy)"
   ]
  },
  {
   "cell_type": "code",
   "execution_count": 64,
   "id": "65d51e58",
   "metadata": {},
   "outputs": [
    {
     "name": "stdout",
     "output_type": "stream",
     "text": [
      "[[52  3  4]\n",
      " [ 5 54 12]\n",
      " [ 3 14 31]]\n"
     ]
    },
    {
     "data": {
      "image/png": "[encoded data removed]",
      "text/plain": [
       "<Figure size 640x480 with 2 Axes>"
      ]
     },
     "metadata": {},
     "output_type": "display_data"
    }
   ],
   "source": [
    "# Construct the confusion matrix\n",
    "N = confusion_matrix(labels, y_prediction)\n",
    "print(N)\n",
    "\n",
    "# Visualize the confusion matrix\n",
    "disp = ConfusionMatrixDisplay(confusion_matrix=N, display_labels=range(3))\n",
    "disp.plot(cmap=plt.cm.Blues)\n",
    "plt.title(\"Confusion Matrix - LOOCV -  Original\")\n",
    "\n",
    "plt.show()"
   ]
  },
  {
   "cell_type": "markdown",
   "id": "5bfc9a56",
   "metadata": {},
   "source": [
    "### Question 2"
   ]
  },
  {
   "cell_type": "code",
   "execution_count": null,
   "id": "35d9a6b6",
   "metadata": {},
   "outputs": [],
   "source": [
    "## 过于复杂，还没实现\n",
    "# 手动实现 k-fold cross-validation\n",
    "def cross_val_score_1nn_manual(X, y, k_folds):\n",
    "    n_samples = len(X)\n",
    "    fold_sizes = [n_samples // k_folds] * k_folds\n",
    "    for i in range(n_samples % k_folds):\n",
    "        fold_sizes[i] += 1\n",
    "\n",
    "    # 创建 fold 划分索引\n",
    "    current = 0\n",
    "    folds = []\n",
    "    for size in fold_sizes:\n",
    "        start, stop = current, current + size\n",
    "        folds.append((start, stop))\n",
    "        current = stop\n",
    "\n",
    "    correct = 0\n",
    "    total = 0\n",
    "\n",
    "    for i in range(k_folds):\n",
    "        # 当前为验证集，其余为训练集\n",
    "        val_start, val_end = folds[i]\n",
    "        val_X = X[val_start:val_end]\n",
    "        val_y = y[val_start:val_end]\n",
    "        train_X = np.concatenate([X[:val_start], X[val_end:]])\n",
    "        train_y = np.concatenate([y[:val_start], y[val_end:]])\n",
    "\n",
    "        for j in range(len(val_X)):\n",
    "            pred = predict_1nn(train_X, train_y, val_X[j])\n",
    "            if pred == val_y[j]:\n",
    "                correct += 1\n",
    "            total += 1\n",
    "\n",
    "    return correct / total\n",
    "\n",
    "# 选择 20 个不同的 k 值（均匀分布在 2~100 之间）\n",
    "k_values = np.linspace(2, 100, 20, dtype=int)\n",
    "accuracies = []\n",
    "\n",
    "for k in k_values:\n",
    "    acc = cross_val_score_1nn_manual(X, y, k)\n",
    "    accuracies.append(acc)\n",
    "\n",
    "# 画图\n",
    "plt.figure(figsize=(10, 6))\n",
    "plt.plot(k_values, accuracies, marker='o')\n",
    "plt.xlabel(\"Number of Folds (k)\")\n",
    "plt.ylabel(\"Accuracy\")\n",
    "plt.title(\"1-NN Accuracy vs k-fold Cross-Validation (fully manual)\")\n",
    "plt.grid(True)\n",
    "plt.show()"
   ]
  },
  {
   "cell_type": "markdown",
   "id": "e76fc9c2",
   "metadata": {},
   "source": [
    "## Method 2: Import Sklearn\n",
    "\n",
    "### Question 1"
   ]
  },
  {
   "cell_type": "code",
   "execution_count": 18,
   "id": "c3bd69b4",
   "metadata": {},
   "outputs": [],
   "source": [
    "from sklearn.neighbors import KNeighborsClassifier\n",
    "from sklearn.model_selection import LeaveOneOut\n",
    "from sklearn.preprocessing import StandardScaler\n",
    "from sklearn.metrics import accuracy_score"
   ]
  },
  {
   "cell_type": "code",
   "execution_count": 43,
   "id": "b24cf33b",
   "metadata": {},
   "outputs": [
    {
     "name": "stdout",
     "output_type": "stream",
     "text": [
      "[(1.0, 1.0), (1.0, 1.0), (1.0, 1.0), (1.0, 1.0), (1.0, 2.0), (1.0, 1.0), (1.0, 1.0), (1.0, 1.0), (1.0, 1.0), (1.0, 1.0)]\n",
      "LOOCV Accuracy: 0.7696629213483146\n"
     ]
    }
   ],
   "source": [
    "model = KNeighborsClassifier(n_neighbors=1)\n",
    "\n",
    "loo = LeaveOneOut()\n",
    "\n",
    "## Inplement LOOCV\n",
    "y_true = []\n",
    "y_pred = []\n",
    "for train_idx, test_idx in loo.split(data):\n",
    "    X_train, X_test = data[train_idx], data[test_idx]\n",
    "    y_train, y_test = labels[train_idx], labels[test_idx]\n",
    "    \n",
    "    model.fit(X_train, y_train)\n",
    "\n",
    "    pred = model.predict(X_test)\n",
    "    \n",
    "    y_true.append(y_test[0])\n",
    "    y_pred.append(pred[0])\n",
    "\n",
    "accuracy = accuracy_score(y_true, y_pred)\n",
    "\n",
    "## Print Result\n",
    "print(list(zip(y_true[:10], y_pred[:10])))\n",
    "print(\"LOOCV Accuracy:\", accuracy)"
   ]
  },
  {
   "cell_type": "code",
   "execution_count": 44,
   "id": "d701a0a3",
   "metadata": {},
   "outputs": [
    {
     "name": "stdout",
     "output_type": "stream",
     "text": [
      "[[52  3  4]\n",
      " [ 5 54 12]\n",
      " [ 3 14 31]]\n"
     ]
    }
   ],
   "source": [
    "from sklearn.metrics import confusion_matrix\n",
    "print(confusion_matrix(y_true, y_pred))"
   ]
  },
  {
   "cell_type": "markdown",
   "id": "39dbf8c2",
   "metadata": {},
   "source": [
    "### Question 2"
   ]
  },
  {
   "cell_type": "code",
   "execution_count": 65,
   "id": "932d7233",
   "metadata": {},
   "outputs": [],
   "source": [
    "import numpy as np\n",
    "import matplotlib.pyplot as plt\n",
    "from sklearn.datasets import load_iris\n",
    "from sklearn.model_selection import cross_val_score, KFold\n",
    "from sklearn.neighbors import KNeighborsClassifier\n",
    "\n",
    "knn = KNeighborsClassifier(n_neighbors=1)\n",
    "\n",
    "## Choose 20 k values that fairly well spread out across the range 2 to 100\n",
    "k_values = np.linspace(2, 100, 20, dtype=int)\n",
    "accuracies = []\n",
    "\n",
    "for k in k_values:\n",
    "    cv = KFold(n_splits=k, shuffle=True, random_state=42)\n",
    "    scores = cross_val_score(knn, data, labels, cv=cv)\n",
    "    accuracies.append(scores.mean())"
   ]
  },
  {
   "cell_type": "code",
   "execution_count": 66,
   "id": "4f6c3ecd",
   "metadata": {},
   "outputs": [
    {
     "data": {
      "image/png": "[encoded data removed]",
      "text/plain": [
       "<Figure size 1000x600 with 1 Axes>"
      ]
     },
     "metadata": {},
     "output_type": "display_data"
    }
   ],
   "source": [
    "## Plot\n",
    "plt.figure(figsize=(10, 6))\n",
    "plt.plot(k_values, accuracies, marker='o', color='green')\n",
    "plt.xlabel(\"Number of Folds (k)\")\n",
    "plt.ylabel(\"Accuracy\")\n",
    "plt.title(\"1-NN Accuracy under k-fold Cross-Validation\")\n",
    "plt.grid(True)\n",
    "plt.show()"
   ]
  },
  {
   "cell_type": "markdown",
   "id": "d852bef2",
   "metadata": {},
   "source": [
    "### Question 3"
   ]
  },
  {
   "cell_type": "code",
   "execution_count": null,
   "id": "28ace9c8",
   "metadata": {},
   "outputs": [],
   "source": [
    "def normalize(X):\n",
    "    X_min = np.min(X, axis=0)\n",
    "    X_max = np.max(X, axis=0)\n",
    "    # Avoid devided by 0 while X_max = X_min\n",
    "    denominator = X_max - X_min\n",
    "    denominator[denominator == 0] = 1\n",
    "    X_normalized = (X - X_min) / denominator\n",
    "    return X_normalized"
   ]
  },
  {
   "cell_type": "code",
   "execution_count": 68,
   "id": "a7f1ce8d",
   "metadata": {},
   "outputs": [
    {
     "name": "stdout",
     "output_type": "stream",
     "text": [
      "[[1.423e+01 1.710e+00 2.430e+00 ... 1.040e+00 3.920e+00 1.065e+03]\n",
      " [1.320e+01 1.780e+00 2.140e+00 ... 1.050e+00 3.400e+00 1.050e+03]\n",
      " [1.316e+01 2.360e+00 2.670e+00 ... 1.030e+00 3.170e+00 1.185e+03]\n",
      " ...\n",
      " [1.327e+01 4.280e+00 2.260e+00 ... 5.900e-01 1.560e+00 8.350e+02]\n",
      " [1.317e+01 2.590e+00 2.370e+00 ... 6.000e-01 1.620e+00 8.400e+02]\n",
      " [1.413e+01 4.100e+00 2.740e+00 ... 6.100e-01 1.600e+00 5.600e+02]]\n",
      "[[0.84210526 0.1916996  0.57219251 ... 0.45528455 0.97069597 0.56134094]\n",
      " [0.57105263 0.2055336  0.4171123  ... 0.46341463 0.78021978 0.55064194]\n",
      " [0.56052632 0.3201581  0.70053476 ... 0.44715447 0.6959707  0.64693295]\n",
      " ...\n",
      " [0.58947368 0.69960474 0.48128342 ... 0.08943089 0.10622711 0.39728959]\n",
      " [0.56315789 0.36561265 0.54010695 ... 0.09756098 0.12820513 0.40085592]\n",
      " [0.81578947 0.66403162 0.73796791 ... 0.10569106 0.12087912 0.20114123]]\n"
     ]
    }
   ],
   "source": [
    "print(data)\n",
    "print(normalize(data))"
   ]
  },
  {
   "cell_type": "code",
   "execution_count": 69,
   "id": "ba6b1395",
   "metadata": {},
   "outputs": [
    {
     "name": "stdout",
     "output_type": "stream",
     "text": [
      "[(1.0, 1.0), (1.0, 1.0), (1.0, 1.0), (1.0, 1.0), (1.0, 1.0), (1.0, 1.0), (1.0, 1.0), (1.0, 1.0), (1.0, 1.0), (1.0, 1.0)]\n",
      "LOOCV Accurac After Normalizing features: 0.949438202247191\n"
     ]
    }
   ],
   "source": [
    "model = KNeighborsClassifier(n_neighbors=1)\n",
    "\n",
    "loo = LeaveOneOut()\n",
    "\n",
    "## Inplement LOOCV\n",
    "y_true = []\n",
    "y_pred = []\n",
    "X = normalize(data)\n",
    "for train_idx, test_idx in loo.split(normalize(data)):\n",
    "    X_train, X_test = X[train_idx], X[test_idx]\n",
    "    y_train, y_test = labels[train_idx], labels[test_idx]\n",
    "    \n",
    "    model.fit(X_train, y_train)\n",
    "\n",
    "    pred = model.predict(X_test)\n",
    "    \n",
    "    y_true.append(y_test[0])\n",
    "    y_pred.append(pred[0])\n",
    "\n",
    "normalize_accuracy = accuracy_score(y_true, y_pred)\n",
    "\n",
    "## Print Result\n",
    "print(list(zip(y_true[:10], y_pred[:10])))\n",
    "print(\"LOOCV Accurac After Normalizing features:\", normalize_accuracy)"
   ]
  },
  {
   "cell_type": "code",
   "execution_count": 63,
   "id": "14cf6e82",
   "metadata": {},
   "outputs": [
    {
     "name": "stdout",
     "output_type": "stream",
     "text": [
      "[[59  0  0]\n",
      " [ 5 62  4]\n",
      " [ 0  0 48]]\n"
     ]
    },
    {
     "data": {
      "image/png": "[encoded data removed]",
      "text/plain": [
       "<Figure size 640x480 with 2 Axes>"
      ]
     },
     "metadata": {},
     "output_type": "display_data"
    }
   ],
   "source": [
    "N = confusion_matrix(y_true, y_pred)\n",
    "print(N)\n",
    "\n",
    "# Visualize the confusion matrix\n",
    "disp = ConfusionMatrixDisplay(confusion_matrix=N, display_labels=range(3))\n",
    "disp.plot(cmap=plt.cm.Blues)\n",
    "plt.title(\"Confusion Matrix N - LOOCV - Normalized\")\n",
    "\n",
    "plt.show()"
   ]
  }
 ],
 "metadata": {
  "kernelspec": {
   "display_name": "base",
   "language": "python",
   "name": "python3"
  },
  "language_info": {
   "codemirror_mode": {
    "name": "ipython",
    "version": 3
   },
   "file_extension": ".py",
   "mimetype": "text/x-python",
   "name": "python",
   "nbconvert_exporter": "python",
   "pygments_lexer": "ipython3",
   "version": "3.12.7"
  }
 },
 "nbformat": 4,
 "nbformat_minor": 5
}
