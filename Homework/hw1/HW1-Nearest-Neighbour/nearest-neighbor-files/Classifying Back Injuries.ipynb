{
 "cells": [
  {
   "cell_type": "markdown",
   "id": "cb9ee7e2",
   "metadata": {},
   "source": [
    "# Nearest Neighbor for Back Injuries Classification\n",
    "\n",
    "In this notebook, I will build a classifier to classify patients' back injuries based on measurements of the shape and orientation of their pelvis and spine. "
   ]
  },
  {
   "cell_type": "markdown",
   "id": "92a4b88f",
   "metadata": {},
   "source": [
    "## 1. Load spine dataset"
   ]
  },
  {
   "cell_type": "code",
   "execution_count": 29,
   "id": "302fff2f",
   "metadata": {},
   "outputs": [],
   "source": [
    "import numpy as np\n",
    "import time\n",
    "import matplotlib.pyplot as plt \n",
    "from sklearn.metrics import confusion_matrix, ConfusionMatrixDisplay\n",
    "\n",
    "## Load data set and code labels as 0 = 'NO', 1 = 'DH', 2 = 'SL'\n",
    "labels = [b'NO', b'DH', b'SL'] # b: byte string\n",
    "data = np.loadtxt('spine-data.txt', converters={6: lambda s: labels.index(s)})\n",
    "\n",
    "## Split the train and test data set\n",
    "train_data = data[:250, :6]\n",
    "test_data = data[250:, :6]\n",
    "train_labels = data[:250, -1] \n",
    "test_labels = data[250:, -1]"
   ]
  },
  {
   "cell_type": "code",
   "execution_count": 30,
   "id": "292a0e69",
   "metadata": {},
   "outputs": [
    {
     "name": "stdout",
     "output_type": "stream",
     "text": [
      "Training dataset dimensions:  (250, 6)\n",
      "Number of training labels:  250\n",
      "Testing dataset dimensions:  (60, 6)\n",
      "Number of testing labels:  60\n"
     ]
    }
   ],
   "source": [
    "## Print out their dimensions\n",
    "print(\"Training dataset dimensions: \", np.shape(train_data))\n",
    "print(\"Number of training labels: \", len(train_labels))\n",
    "print(\"Testing dataset dimensions: \", np.shape(test_data))\n",
    "print(\"Number of testing labels: \", len(test_labels))"
   ]
  },
  {
   "cell_type": "markdown",
   "id": "db1eec88",
   "metadata": {},
   "source": [
    "## 3. L1 and L2 Distance\n",
    "\n",
    "To compute nearest neighbors in our data set, we need to first be able to compute distances between data points. Two natural distance function approaches are _Euclidean distance_ and _Manhattan distance_, and they are defined as follows: for two vectors $x, y \\in \\mathbb{R}^d$, \n",
    "\n",
    "their Euclidean distance (l2 distance) is defined as \n",
    "$$\\|x - y\\| = \\sqrt{\\sum_{i=1}^d (x_i - y_i)^2},$$\n",
    "\n",
    "Often we omit the square root, and simply compute _squared Euclidean distance_:\n",
    "$$\\|x - y\\|^2 = \\sum_{i=1}^d (x_i - y_i)^2.$$\n",
    "\n",
    "And their Manhattan distance (l1 distance) is defined as\n",
    "$$\\|x - y\\| = \\sum_{i=1}^d |x_i - y_i|.$$\n",
    "\n",
    "For the purposes of nearest neighbor computations, the Euclidean distance and the squared Euclidean distance are equivalent: for three vectors $x, y, z \\in \\mathbb{R}^d$, we have $\\|x - y\\| \\leq \\|x - z\\|$ if and only if $\\|x - y\\|^2 \\leq \\|x - z\\|^2$.\n",
    "\n",
    "Now we just need to be able to compute squared Euclidean distance and the Manhattan distance. The following function does so."
   ]
  },
  {
   "cell_type": "code",
   "execution_count": 31,
   "id": "702f11e7",
   "metadata": {},
   "outputs": [
    {
     "name": "stdout",
     "output_type": "stream",
     "text": [
      "L2 Distance from the first to the second:  194.6170999999999\n",
      "L1 Distance from the first to the second:  28.83\n"
     ]
    }
   ],
   "source": [
    "## Computes squared Euclidean distance between two vectors.\n",
    "def l2_dist(x,y):\n",
    "    return np.sum(np.square(x-y))\n",
    "\n",
    "def l1_dist(x,y):\n",
    "    return np.sum(np.abs(x-y))\n",
    "\n",
    "## Compute distance between the first and the second data in our training set.\n",
    "print(\"L2 Distance from the first to the second: \", l2_dist(train_data[0,],train_data[1,]))\n",
    "\n",
    "print(\"L1 Distance from the first to the second: \", l1_dist(train_data[0,],train_data[1,]))\n"
   ]
  },
  {
   "cell_type": "markdown",
   "id": "8bf71053",
   "metadata": {},
   "source": [
    "## 4. Computing nearest neighbors\n",
    "\n",
    "Now that we have a distance function defined, we can now turn to nearest neighbor classification. "
   ]
  },
  {
   "cell_type": "code",
   "execution_count": 32,
   "id": "6e0dd91c",
   "metadata": {},
   "outputs": [],
   "source": [
    "## Takes a vector x and returns the index of its nearest neighbor in train_data\n",
    "def l2_find_NN(x):\n",
    "    # Compute distances from x to every row in train_data\n",
    "    l2_distances = [l2_dist(x,train_data[i,]) for i in range(len(train_labels))]\n",
    "    # Get the index of the smallest distance\n",
    "    return np.argmin(l2_distances)\n",
    "\n",
    "def l1_find_NN(x):\n",
    "    # Compute distances from x to every row in train_data\n",
    "    l1_distances = [l1_dist(x,train_data[i,]) for i in range(len(train_labels))]\n",
    "    # Get the index of the smallest distance\n",
    "    return np.argmin(l1_distances)\n",
    "\n",
    "## Takes a vector x and returns the class of its nearest neighbor in train_data\n",
    "def l2_NN_classifier(x):\n",
    "    # Get the index of the the nearest neighbor\n",
    "    index = l2_find_NN(x)\n",
    "    # Return its class\n",
    "    return train_labels[index]\n",
    "\n",
    "def l1_NN_classifier(x):\n",
    "    # Get the index of the the nearest neighbor\n",
    "    index = l1_find_NN(x)\n",
    "    # Return its class\n",
    "    return train_labels[index]"
   ]
  },
  {
   "cell_type": "code",
   "execution_count": 33,
   "id": "4c47ad5d",
   "metadata": {},
   "outputs": [
    {
     "name": "stdout",
     "output_type": "stream",
     "text": [
      "NN classification:  2.0\n",
      "True label:  2.0\n"
     ]
    }
   ],
   "source": [
    "## A success case:\n",
    "print(\"NN classification: \", l2_NN_classifier(test_data[0,]))\n",
    "print(\"True label: \", test_labels[0])"
   ]
  },
  {
   "cell_type": "markdown",
   "id": "e4976eb2",
   "metadata": {},
   "source": [
    "## 5. Processing the full test set\n",
    "\n",
    "Now let's apply our nearest neighbor classifier over the full data set. \n",
    "\n",
    "First we will compute the error rate we get on the test set for l2 and l1 distance."
   ]
  },
  {
   "cell_type": "code",
   "execution_count": 34,
   "id": "e919dbe7",
   "metadata": {},
   "outputs": [
    {
     "name": "stdout",
     "output_type": "stream",
     "text": [
      "L2 Error of nearest neighbor classifier:  0.23333333333333334\n",
      "Classification time (seconds) of L2:  0.049114227294921875\n",
      "\n",
      "L1 Error of nearest neighbor classifier:  0.21666666666666667\n",
      "Classification time (seconds) of L1:  0.03068399429321289\n"
     ]
    }
   ],
   "source": [
    "## Predict on each test data point (and time it!)\n",
    "l2_t_before = time.time()\n",
    "l2_test_predictions = [l2_NN_classifier(test_data[i,]) for i in range(len(test_labels))]\n",
    "l2_t_after = time.time()\n",
    "\n",
    "l1_t_before = time.time()\n",
    "l1_test_predictions = [l1_NN_classifier(test_data[i,]) for i in range(len(test_labels))]\n",
    "l1_t_after = time.time()\n",
    "\n",
    "## Compute the error\n",
    "l2_err_positions = np.not_equal(l2_test_predictions, test_labels)\n",
    "l2_error = float(np.sum(l2_err_positions))/len(test_labels)\n",
    "\n",
    "l1_err_positions = np.not_equal(l1_test_predictions, test_labels)\n",
    "l1_error = float(np.sum(l1_err_positions))/len(test_labels)\n",
    "\n",
    "print(\"L2 Error of nearest neighbor classifier: \", l2_error)\n",
    "print(\"Classification time (seconds) of L2: \", l2_t_after - l2_t_before)\n",
    "print(\"\")\n",
    "print(\"L1 Error of nearest neighbor classifier: \", l1_error)\n",
    "print(\"Classification time (seconds) of L1: \", l1_t_after - l1_t_before)"
   ]
  },
  {
   "cell_type": "markdown",
   "id": "39c677ec",
   "metadata": {},
   "source": [
    "Then, we will compute the confusion matrix of the NN classifier, both in l2 and l1 distance."
   ]
  },
  {
   "cell_type": "code",
   "execution_count": 35,
   "id": "b0db0dde",
   "metadata": {},
   "outputs": [
    {
     "data": {
      "image/png": "[encoded data removed]",
      "text/plain": [
       "<Figure size 640x480 with 2 Axes>"
      ]
     },
     "metadata": {},
     "output_type": "display_data"
    },
    {
     "data": {
      "image/png": "[encoded data removed]",
      "text/plain": [
       "<Figure size 640x480 with 2 Axes>"
      ]
     },
     "metadata": {},
     "output_type": "display_data"
    }
   ],
   "source": [
    "# Predict all the labels in test dataset\n",
    "l2_y_prediction = [l2_NN_classifier(x) for x in test_data]\n",
    "l1_y_prediction = [l1_NN_classifier(x) for x in test_data]\n",
    "\n",
    "# Construct the confusion matrix\n",
    "N_l2 = confusion_matrix(test_labels, l2_y_prediction)\n",
    "N_l1 = confusion_matrix(test_labels, l1_y_prediction)\n",
    "\n",
    "# Visualize the confusion matrix\n",
    "disp1 = ConfusionMatrixDisplay(confusion_matrix=N_l2, display_labels=range(3))\n",
    "disp1.plot(cmap=plt.cm.Blues)\n",
    "plt.title(\"Confusion Matrix N - L2 distance\")\n",
    "\n",
    "disp2 = ConfusionMatrixDisplay(confusion_matrix=N_l1, display_labels=range(3))\n",
    "disp2.plot(cmap=plt.cm.Blues)\n",
    "plt.title(\"Confusion Matrix N - L1 distance\")\n",
    "\n",
    "plt.show()"
   ]
  }
 ],
 "metadata": {
  "kernelspec": {
   "display_name": "base",
   "language": "python",
   "name": "python3"
  },
  "language_info": {
   "codemirror_mode": {
    "name": "ipython",
    "version": 3
   },
   "file_extension": ".py",
   "mimetype": "text/x-python",
   "name": "python",
   "nbconvert_exporter": "python",
   "pygments_lexer": "ipython3",
   "version": "3.11.5"
  }
 },
 "nbformat": 4,
 "nbformat_minor": 5
}
