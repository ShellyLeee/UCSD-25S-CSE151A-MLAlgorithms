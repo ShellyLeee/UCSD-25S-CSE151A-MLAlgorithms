{
 "cells": [
  {
   "cell_type": "markdown",
   "id": "5e24a023",
   "metadata": {},
   "source": [
    "# 1.Version Control\n",
    "0. Install Miniconda:\n",
    "`https://docs.conda.io/en/latest/miniconda.html`\n",
    "1. Create new environment: \n",
    "`conda create -n myenv python=3.9`\n",
    "2. Activate/deactivate an environment:\n",
    "`conda activate myenv; conda deactive`\n",
    "3. Check environments:\n",
    "`conda info —env`\n",
    "4. Install packages:\n",
    "`pip install numpy==1.23`\n",
    "5. Check python version\n",
    "`python --version`\n",
    "6. Check package version\n",
    "`pip show numpy`"
   ]
  },
  {
   "cell_type": "markdown",
   "id": "1f0165ff",
   "metadata": {},
   "source": [
    "\\begin{equation}\n",
    "env1: \\begin{pmatrix}\n",
    "\\text{numpy}\\\\\n",
    "\\text{torch=1.21}\n",
    "\\end{pmatrix}\n",
    "\\end{equation}\n",
    "\n",
    "\\begin{equation}\n",
    "env2: \\begin{pmatrix}\n",
    "\\text{matplotlib}\\\\\n",
    "\\text{torch=1.18}\n",
    "\\end{pmatrix}\n",
    "\\end{equation}"
   ]
  },
  {
   "cell_type": "markdown",
   "id": "1e838b13",
   "metadata": {},
   "source": [
    "# 2.Python Tutorial\n",
    "Detailed basic tutorial: `https://cs231n.github.io/python-numpy-tutorial/`"
   ]
  },
  {
   "cell_type": "code",
   "execution_count": null,
   "id": "804ed10d",
   "metadata": {},
   "outputs": [
    {
     "name": "stdout",
     "output_type": "stream",
     "text": [
      "dictionary: ab\n",
      "\n",
      "\n",
      "loop: 0\n",
      "loop: 1\n",
      "loop: 2\n",
      "loop: 3\n",
      "loop: 4\n",
      "\n",
      "\n",
      "list: [0, 1, 2, 3, 4]\n",
      "list: [2, 3]\n",
      "list: [0, 1, 2, 3]\n",
      "list: [2, 3, 4]\n",
      "list: [0, 1]\n",
      "list: [0, 2, 4]\n",
      "list: [1, 3]\n",
      "list: [0, 1, 8, 9, 4]\n",
      "\n",
      "\n",
      "function: None [0, 1, 8, 9, 4] 1\n",
      "function: [0, 1, 0, 1, 2]\n"
     ]
    }
   ],
   "source": [
    "# Dictionary: \n",
    "d = {'1':'ab', '2':'cd'}; print('dictionary:', d['1']) # ab\n",
    "print('\\n')\n",
    "\n",
    "# loop\n",
    "for i in range(5): \n",
    "    print('loop:', i)\n",
    "print('\\n')\n",
    "\n",
    "# List; list slicing;\n",
    "nums = list(range(5)) # or nums = [0,1,2,3,4]\n",
    "print('list:', nums)  # or nums[:]\n",
    "print('list:',nums[2:4])\n",
    "print('list:',nums[:-1]) # up to second last\n",
    "print('list:',nums[2:])\n",
    "print('list:',nums[:2])\n",
    "print('list:',nums[::2]) # [0, 2, 4]\n",
    "print('list:',nums[1::2]) # [1, 3]\n",
    "\n",
    "nums[2:4] = [8, 9]; print('list:', nums)\n",
    "print('\\n')\n",
    "\n",
    "# function and local variable reassign;\n",
    "def func1(a,b): \n",
    "    a=1\n",
    "    b=[0,1,2]\n",
    "    return a\n",
    "\n",
    "# will not change global list\n",
    "x = None\n",
    "func1_return = func1(x, nums)\n",
    "print('function:', x, nums, func1_return) # None, [0, 1, 8, 9, 4]\n",
    "\n",
    "\n",
    "def func2(b): # will change global list\n",
    "    b[2:]=[0,1,2]\n",
    "\n",
    "func2(nums)\n",
    "print('function:', nums) # function: [0, 1, 0, 1, 2]"
   ]
  },
  {
   "cell_type": "markdown",
   "id": "c6c22f64",
   "metadata": {},
   "source": [
    "# 3.Numpy Tutorial"
   ]
  },
  {
   "cell_type": "markdown",
   "id": "7f6e27bd",
   "metadata": {},
   "source": [
    "## $\\bullet$ 1D and 2D arrays"
   ]
  },
  {
   "cell_type": "code",
   "execution_count": 37,
   "id": "32d6d19a",
   "metadata": {},
   "outputs": [
    {
     "name": "stdout",
     "output_type": "stream",
     "text": [
      "<class 'numpy.ndarray'>\n",
      "(3,)\n",
      "1 [1 2 3] [2 3]\n",
      "[5 2 3]\n",
      "\n",
      "\n",
      "(2, 3)\n",
      "1 2 4\n",
      "2\n"
     ]
    }
   ],
   "source": [
    "import numpy as np\n",
    "\n",
    "a = np.array([1, 2, 3])   \n",
    "print(type(a))            \n",
    "print(a.shape)   \n",
    "print(a[0], a[:], a[1:])   \n",
    "a[0] = 5                  \n",
    "print(a)\n",
    "\n",
    "print('\\n')\n",
    "b = np.array([[1,2,3],[4,5,6]])    \n",
    "print(b.shape)\n",
    "print(b[0, 0], b[0, 1], b[1, 0])   \n",
    "print(len(b))"
   ]
  },
  {
   "cell_type": "code",
   "execution_count": 29,
   "id": "c9aca477",
   "metadata": {},
   "outputs": [
    {
     "name": "stdout",
     "output_type": "stream",
     "text": [
      "(2, 1)\n",
      "(2,)\n"
     ]
    },
    {
     "data": {
      "text/plain": [
       "array([0, 1, 2, 3])"
      ]
     },
     "execution_count": 29,
     "metadata": {},
     "output_type": "execute_result"
    }
   ],
   "source": [
    "np.zeros((2,2))   # Create an array of all zeros\n",
    "\n",
    "print(np.ones((2,1)).shape)    # Create an array of all ones\n",
    "print(np.ones((2)).shape)\n",
    "\n",
    "np.full((2,2), 7)  # Create a constant array\n",
    "\n",
    "np.eye(2)         # Create a 2x2 identity matrix\n",
    "\n",
    "np.random.random((2,2))  # Create an array filled with random values\n",
    "\n",
    "np.arange(4) # array([0, 1, 2, 3])"
   ]
  },
  {
   "cell_type": "markdown",
   "id": "c61856a4",
   "metadata": {},
   "source": [
    "## $\\bullet$ Indexing"
   ]
  },
  {
   "cell_type": "code",
   "execution_count": 30,
   "id": "53755dac",
   "metadata": {},
   "outputs": [
    {
     "name": "stdout",
     "output_type": "stream",
     "text": [
      "[[ 1 77  3  4]\n",
      " [ 5  6  7  8]\n",
      " [ 9 10 11 12]\n",
      " [13 14 15 16]]\n",
      "[5 6 7 8] (4,)\n",
      "[[5 6 7 8]] (1, 4)\n",
      "\n",
      "\n",
      "[[77]\n",
      " [ 6]\n",
      " [10]\n",
      " [14]] (4, 1)\n"
     ]
    }
   ],
   "source": [
    "a = np.arange(1,17).reshape(4,4) # np.array([[1,2,3,4], [5,6,7,8], [9,10,11,12], [13,14,15,16]])\n",
    "b = a[:2, 1:3]\n",
    "# a = [[ 1  2  3  4]\n",
    "#  [ 5  6  7  8]\n",
    "#  [ 9 10 11 12]\n",
    "#  [13 14 15 16]]\n",
    "\n",
    "# b = [[2 3]\n",
    "#     [6 7]]\n",
    "\n",
    "\n",
    "# A slice of an array is a view into the same data, so modifying it will modify the original array.   \n",
    "b[0, 0] = 77      # b is a reference of a    \n",
    "print(a)\n",
    "# a = [[ 1  77  3  4]\n",
    "#  [ 5  6  7  8]\n",
    "#  [ 9 10 11 12]\n",
    "#  [13 14 15 16]]\n",
    "\n",
    "\n",
    "# these two shapes are different\n",
    "print(a[1,:], a[1,:].shape)\n",
    "print(a[1:2,:], a[1:2,:].shape)\n",
    "# [5 6 7 8] (4,)\n",
    "# [[5 6 7 8]] (1, 4)\n",
    "\n",
    "# column access\n",
    "print('\\n')\n",
    "print(a[:,1:2], a[:,1:2].shape)\n",
    "#[[77]\n",
    "# [ 6]\n",
    "# [10]\n",
    "# [14]] (4, 1)"
   ]
  },
  {
   "cell_type": "code",
   "execution_count": 31,
   "id": "325460d6",
   "metadata": {},
   "outputs": [
    {
     "name": "stdout",
     "output_type": "stream",
     "text": [
      "[ 1  2  3  4  5  6  7  8  9 10 11 12 13 14 15 16] [1 3 1 2] \n",
      "\n",
      "[[ 1  2  3  4]\n",
      " [ 5  6  7  8]\n",
      " [ 9 10 11 12]\n",
      " [13 14 15 16]] [ 1  7  9 14]\n"
     ]
    }
   ],
   "source": [
    "a = np.arange(1,17)\n",
    "\n",
    "# Create an array of indices\n",
    "b = np.array([0, 2, 0, 1])\n",
    "print(a, a[b], '\\n') # [ 1  2  3  4  5  6  7  8  9 10 11 12 13 14 15 16] [1 3 1 2] \n",
    "\n",
    "a = a.reshape(4,4)\n",
    "# 2D indices\n",
    "print(a, a[np.arange(4), b])\n",
    "#[[ 1  2  3  4]\n",
    "# [ 5  6  7  8]\n",
    "# [ 9 10 11 12]\n",
    "# [13 14 15 16]] [ 1  7  9 14]"
   ]
  },
  {
   "cell_type": "code",
   "execution_count": 32,
   "id": "cc32aa80",
   "metadata": {},
   "outputs": [
    {
     "name": "stdout",
     "output_type": "stream",
     "text": [
      "[[False False  True False]\n",
      " [False False False False]\n",
      " [False False False False]\n",
      " [False False False False]] [3]\n",
      "[11 12 13 14 15 16] [-11 -12 -13 -14 -15 -16]\n"
     ]
    }
   ],
   "source": [
    "equal_three = a==3\n",
    "print(equal_three, a[equal_three])\n",
    "#[[False False  True False]\n",
    "# [False False False False]\n",
    "# [False False False False]\n",
    "# [False False False False]] [3]\n",
    "\n",
    "a = np.arange(1,17)\n",
    "b = -np.arange(1,17)\n",
    "idx = a>10; print(a[idx], b[idx]) # [11 12 13 14 15 16] [-11 -12 -13 -14 -15 -16]"
   ]
  },
  {
   "cell_type": "markdown",
   "id": "a37aa688",
   "metadata": {},
   "source": [
    "## $\\bullet$ Datasets"
   ]
  },
  {
   "cell_type": "code",
   "execution_count": 33,
   "id": "673477c4",
   "metadata": {},
   "outputs": [
    {
     "name": "stdout",
     "output_type": "stream",
     "text": [
      "[[1 2]\n",
      " [3 4]\n",
      " [5 6]\n",
      " [7 8]] (4, 2) \n",
      "\n",
      "[[[1 2]]\n",
      "\n",
      " [[3 4]]\n",
      "\n",
      " [[5 6]]\n",
      "\n",
      " [[7 8]]] (4, 1, 2) \n",
      "\n",
      "[[1 2]\n",
      " [3 4]\n",
      " [5 6]\n",
      " [7 8]] (4, 2) \n",
      "\n",
      "4 4\n",
      "[[1 2]\n",
      " [7 8]] [1 1]\n"
     ]
    }
   ],
   "source": [
    "# construct a dataset; Numpy array usually uses (n, num_feat), convenient for append\n",
    "dataset = [np.array([1,2]),np.array([3,4]),np.array([5,6]),np.array([7,8])] # shape (2,)\n",
    "a = []\n",
    "for data in dataset:\n",
    "    a.append(data)\n",
    "a = np.stack(a, axis=0)\n",
    "print(a, a.shape, '\\n')\n",
    "# [[1 2]\n",
    "#  [3 4]\n",
    "# [5 6]\n",
    "# [7 8]] (4, 2) \n",
    "\n",
    "dataset = [np.array([[1,2]]),np.array([[3,4]]),np.array([[5,6]]),np.array([[7,8]])] # (1,2)\n",
    "a = []\n",
    "for data in dataset:\n",
    "    a.append(data)\n",
    "b = np.stack(a, axis=0)\n",
    "print(b, b.shape, '\\n')\n",
    "# [[[1 2]]\n",
    "#  [[3 4]]\n",
    "#  [[5 6]]\n",
    "#  [[7 8]]] (4, 1, 2) \n",
    "\n",
    "\n",
    "x = np.concatenate(a, axis=0)\n",
    "print(x, x.shape, '\\n')\n",
    "# [[1 2]\n",
    "#  [3 4]\n",
    "#  [5 6]\n",
    "#  [7 8]] (4, 2)\n",
    "\n",
    "# another benefit is the len() function\n",
    "y = np.array([1,0,0,1])\n",
    "print(len(x), len(y))\n",
    "# 4 4\n",
    "\n",
    "\n",
    "# filter the features of some classes (i.e. getting rid of class==0)\n",
    "data_idx = y>0; print(x[data_idx], y[data_idx])\n",
    "# [[1 2]\n",
    "#  [7 8]] [1 1]"
   ]
  },
  {
   "cell_type": "markdown",
   "id": "bc145da2",
   "metadata": {},
   "source": [
    "## $\\bullet$ Reference variables "
   ]
  },
  {
   "cell_type": "code",
   "execution_count": 34,
   "id": "46bf3e41",
   "metadata": {},
   "outputs": [
    {
     "name": "stdout",
     "output_type": "stream",
     "text": [
      "function1: [1 0 0 1]\n",
      "function2: [1 0 0 0]\n"
     ]
    }
   ],
   "source": [
    "# function and local variable reassign;\n",
    "y = np.array([1,0,0,1])\n",
    "def func1(b): \n",
    "    b = np.zeros(4)\n",
    "func1(y); print('function1:', y) \n",
    "\n",
    "def func2(b):\n",
    "    b[2:]=np.zeros_like(b[2:])\n",
    "func2(y); print('function2:', y) # None, [0, 1, 8, 9, 4]\n"
   ]
  },
  {
   "cell_type": "markdown",
   "id": "a5c27884",
   "metadata": {},
   "source": [
    "## $\\bullet$ Math"
   ]
  },
  {
   "cell_type": "code",
   "execution_count": 10,
   "id": "74b59e55",
   "metadata": {},
   "outputs": [
    {
     "name": "stdout",
     "output_type": "stream",
     "text": [
      "[[0 1 2]\n",
      " [3 4 5]]\n",
      "[[ 6  7  8]\n",
      " [ 9 10 11]] \n",
      "\n",
      "[[ 6  8 10]\n",
      " [12 14 16]]\n",
      "[[  403.42879349  1096.63315843  2980.95798704]\n",
      " [ 8103.08392758 22026.46579481 59874.1417152 ]] \n",
      "\n",
      "[24 42]\n",
      "[[24]\n",
      " [42]] \n",
      "\n",
      "[[ 0  7 16]\n",
      " [27 40 55]] \n",
      "\n",
      "(2, 3) (2, 3)\n",
      "[[27 30 33]\n",
      " [42 47 52]\n",
      " [57 64 71]]\n",
      "int64 int64\n"
     ]
    },
    {
     "name": "stderr",
     "output_type": "stream",
     "text": [
      "/var/folders/ds/pdjszfgd4798czy7zmvv31m80000gn/T/ipykernel_3931/1048052701.py:36: FutureWarning: In the future `np.bool` will be defined as the corresponding NumPy scalar.\n",
      "  print(a+b.astype(np.bool))\n"
     ]
    },
    {
     "ename": "AttributeError",
     "evalue": "module 'numpy' has no attribute 'bool'.\n`np.bool` was a deprecated alias for the builtin `bool`. To avoid this error in existing code, use `bool` by itself. Doing this will not modify any behavior and is safe. If you specifically wanted the numpy scalar type, use `np.bool_` here.\nThe aliases was originally deprecated in NumPy 1.20; for more details and guidance see the original release note at:\n    https://numpy.org/devdocs/release/1.20.0-notes.html#deprecations",
     "output_type": "error",
     "traceback": [
      "\u001b[0;31m---------------------------------------------------------------------------\u001b[0m",
      "\u001b[0;31mAttributeError\u001b[0m                            Traceback (most recent call last)",
      "Cell \u001b[0;32mIn[10], line 36\u001b[0m\n\u001b[1;32m     30\u001b[0m \u001b[38;5;66;03m# (2, 3) (2, 3)\u001b[39;00m\n\u001b[1;32m     31\u001b[0m \u001b[38;5;66;03m# [[27 30 33]\u001b[39;00m\n\u001b[1;32m     32\u001b[0m \u001b[38;5;66;03m#  [42 47 52]\u001b[39;00m\n\u001b[1;32m     33\u001b[0m \u001b[38;5;66;03m#  [57 64 71]]\u001b[39;00m\n\u001b[1;32m     35\u001b[0m \u001b[38;5;28mprint\u001b[39m(a\u001b[38;5;241m.\u001b[39mdtype, b\u001b[38;5;241m.\u001b[39mdtype)\n\u001b[0;32m---> 36\u001b[0m \u001b[38;5;28mprint\u001b[39m(a\u001b[38;5;241m+\u001b[39mb\u001b[38;5;241m.\u001b[39mastype(np\u001b[38;5;241m.\u001b[39mbool))\n",
      "File \u001b[0;32m~/anaconda3/lib/python3.11/site-packages/numpy/__init__.py:305\u001b[0m, in \u001b[0;36m__getattr__\u001b[0;34m(attr)\u001b[0m\n\u001b[1;32m    300\u001b[0m     warnings\u001b[38;5;241m.\u001b[39mwarn(\n\u001b[1;32m    301\u001b[0m         \u001b[38;5;124mf\u001b[39m\u001b[38;5;124m\"\u001b[39m\u001b[38;5;124mIn the future `np.\u001b[39m\u001b[38;5;132;01m{\u001b[39;00mattr\u001b[38;5;132;01m}\u001b[39;00m\u001b[38;5;124m` will be defined as the \u001b[39m\u001b[38;5;124m\"\u001b[39m\n\u001b[1;32m    302\u001b[0m         \u001b[38;5;124m\"\u001b[39m\u001b[38;5;124mcorresponding NumPy scalar.\u001b[39m\u001b[38;5;124m\"\u001b[39m, \u001b[38;5;167;01mFutureWarning\u001b[39;00m, stacklevel\u001b[38;5;241m=\u001b[39m\u001b[38;5;241m2\u001b[39m)\n\u001b[1;32m    304\u001b[0m \u001b[38;5;28;01mif\u001b[39;00m attr \u001b[38;5;129;01min\u001b[39;00m __former_attrs__:\n\u001b[0;32m--> 305\u001b[0m     \u001b[38;5;28;01mraise\u001b[39;00m \u001b[38;5;167;01mAttributeError\u001b[39;00m(__former_attrs__[attr])\n\u001b[1;32m    307\u001b[0m \u001b[38;5;66;03m# Importing Tester requires importing all of UnitTest which is not a\u001b[39;00m\n\u001b[1;32m    308\u001b[0m \u001b[38;5;66;03m# cheap import Since it is mainly used in test suits, we lazy import it\u001b[39;00m\n\u001b[1;32m    309\u001b[0m \u001b[38;5;66;03m# here to save on the order of 10 ms of import time for most users\u001b[39;00m\n\u001b[1;32m    310\u001b[0m \u001b[38;5;66;03m#\u001b[39;00m\n\u001b[1;32m    311\u001b[0m \u001b[38;5;66;03m# The previous way Tester was imported also had a side effect of adding\u001b[39;00m\n\u001b[1;32m    312\u001b[0m \u001b[38;5;66;03m# the full `numpy.testing` namespace\u001b[39;00m\n\u001b[1;32m    313\u001b[0m \u001b[38;5;28;01mif\u001b[39;00m attr \u001b[38;5;241m==\u001b[39m \u001b[38;5;124m'\u001b[39m\u001b[38;5;124mtesting\u001b[39m\u001b[38;5;124m'\u001b[39m:\n",
      "\u001b[0;31mAttributeError\u001b[0m: module 'numpy' has no attribute 'bool'.\n`np.bool` was a deprecated alias for the builtin `bool`. To avoid this error in existing code, use `bool` by itself. Doing this will not modify any behavior and is safe. If you specifically wanted the numpy scalar type, use `np.bool_` here.\nThe aliases was originally deprecated in NumPy 1.20; for more details and guidance see the original release note at:\n    https://numpy.org/devdocs/release/1.20.0-notes.html#deprecations"
     ]
    }
   ],
   "source": [
    "# element-wise operations; \n",
    "a = np.arange(6).reshape(2,3); print(a)\n",
    "b = np.arange(6,12).reshape(2,3); print(b,'\\n')\n",
    "# [[0 1 2]\n",
    "#  [3 4 5]]\n",
    "# [[ 6  7  8]\n",
    "#  [ 9 10 11]] \n",
    "\n",
    "print(a+b) # element-wise add\n",
    "print(np.exp(b), '\\n')\n",
    "# [[ 6  8 10]\n",
    "#  [12 14 16]]\n",
    "# [[  403.42879349  1096.63315843  2980.95798704]\n",
    "#  [ 8103.08392758 22026.46579481 59874.1417152 ]] \n",
    "\n",
    "print((a+b).sum(axis=1)) # sum over an axis \n",
    "print((a+b).sum(axis=1,keepdims=True), '\\n') # sum over an axis\n",
    "# [24 42]\n",
    "# [[24]\n",
    "#  [42]] \n",
    "\n",
    "\n",
    "# multiplication operations\n",
    "print(a*b,'\\n') # element-wise\n",
    "# [[ 0  7 16]\n",
    "#  [27 40 55]]\n",
    "\n",
    "print(a.shape, b.shape)\n",
    "print(a.T @ b) # matrix mul\n",
    "# (2, 3) (2, 3)\n",
    "# [[27 30 33]\n",
    "#  [42 47 52]\n",
    "#  [57 64 71]]\n",
    "\n",
    "print(a.dtype, b.dtype)\n",
    "print(a+b.astype(np.bool))\n",
    "# int64 int64\n",
    "# [[1 2 3]\n",
    "#  [4 5 6]]"
   ]
  },
  {
   "cell_type": "markdown",
   "id": "4960c332",
   "metadata": {},
   "source": [
    "## $\\bullet$ Broadcasting "
   ]
  },
  {
   "cell_type": "code",
   "execution_count": 35,
   "id": "bde35827",
   "metadata": {},
   "outputs": [
    {
     "name": "stdout",
     "output_type": "stream",
     "text": [
      "0.00015163421630859375\n",
      "(4, 3) (1, 3)\n",
      "0.00014901161193847656\n",
      "[[0 0 0]\n",
      " [0 0 0]\n",
      " [0 0 0]\n",
      " [0 0 0]]\n"
     ]
    }
   ],
   "source": [
    "import time\n",
    "\n",
    "x = np.array([[1,2,3], [4,5,6], [7,8,9], [10, 11, 12]])\n",
    "v = np.array([1, 0, 1])\n",
    "y = np.empty_like(x)   # Create an empty matrix with the same shape as x\n",
    "\n",
    "# Add the vector v to each row of the matrix x with an explicit loop\n",
    "before = time.time()\n",
    "for i in range(4):\n",
    "    y[i, :] = x[i, :] - v\n",
    "print(time.time()-before)\n",
    "\n",
    "print(x.shape, v[None,:].shape)\n",
    "before = time.time()\n",
    "y_new = x-v[None,:] # as if v is repeated 4 times （4，3）-（4，3）\n",
    "print(time.time()-before)\n",
    "\n",
    "print(y-y_new)\n",
    "\n",
    "# 0.0005791187286376953\n",
    "# (4, 3) (1, 3)\n",
    "# 0.00011992454528808594\n",
    "# [[0 0 0]\n",
    "#  [0 0 0]\n",
    "#  [0 0 0]\n",
    "#  [0 0 0]]"
   ]
  },
  {
   "cell_type": "code",
   "execution_count": 21,
   "id": "fdaec496",
   "metadata": {},
   "outputs": [
    {
     "name": "stdout",
     "output_type": "stream",
     "text": [
      "[ 4 13 22 31]\n",
      "operands could not be broadcast together with shapes (4,3) (2,3) \n",
      "[[ 4  3]\n",
      " [13 12]\n",
      " [22 21]\n",
      " [31 30]]\n"
     ]
    }
   ],
   "source": [
    "# |x-v|\n",
    "v = np.array([1, 0, 1])\n",
    "print(np.abs(x-v[None,:]).sum(-1))\n",
    "# [ 4 13 22 31]\n",
    "\n",
    "# |x-vs|; think about the shape, check shape, check datatype\n",
    "v = np.array([[1, 0, 1], [1,1,1]])\n",
    "try:\n",
    "    print(np.abs(x-v))\n",
    "except Exception as e: \n",
    "    print(e) # operands could not be broadcast together with shapes (4,3) (2,3) \n",
    "print(np.abs(x[:,None,:]-v[None,:,:]).sum(-1)) # (4,1,3)-(1,2,3) <-> x'(4,2,3)-v'(4,2,3)\n",
    "# [[ 4  3]\n",
    "#  [13 12]\n",
    "#  [22 21]\n",
    "#  [31 30]]"
   ]
  },
  {
   "cell_type": "markdown",
   "id": "ff91e2c2",
   "metadata": {},
   "source": [
    "\\begin{equation}\n",
    "A = \\begin{pmatrix}\n",
    "a_{0,0} & a_{0,1} & a_{0,2}\\\\\n",
    "a_{1,0} & a_{1,1} & a_{1,2}\\\\\n",
    "a_{2,0} & a_{2,1} & a_{2,2}\\\\\n",
    "a_{3,0} & a_{3,1} & a_{3,2}\\\\\n",
    "\\end{pmatrix}\n",
    "\\end{equation}\n",
    "\n",
    "\\begin{equation}\n",
    "B = \\begin{pmatrix}\n",
    "b_0 \\\\\n",
    "b_1 \\\\\n",
    "b_2 \\\\\n",
    "b_3 \\\\\n",
    "\\end{pmatrix}\n",
    "\\end{equation}\n",
    "\n",
    "\\begin{equation}\n",
    "C = \\begin{pmatrix}\n",
    "c_0 \\\\\n",
    "c_1 \\\\\n",
    "c_2 \\\\\n",
    "c_3 \\\\\n",
    "\\end{pmatrix}\n",
    "\\end{equation}\n",
    "\n",
    "Question: How to get matrix\n",
    "\\begin{equation}\n",
    "D = \\begin{pmatrix}\n",
    "\\sum_{i=0}^{M-1} a_{i,0}(b_i-c_i) & \\sum_{i=0}^{M-1} a_{i,1}(b_i-c_i) & \\sum_{i=0}^{M-1} a_{i,2}(b_i-c_i)\n",
    "\\end{pmatrix}\n",
    "\\end{equation}\n",
    "\n",
    "\\begin{equation}\n",
    "D=\\begin{pmatrix}\n",
    "a_{0,0}(b_0-c_0)+a_{1,0}(b_1-c_1)+a_{2,0}(b_2-c_2)+a_{3,0}(b_3-c_3) \\\\\n",
    "a_{0,1}(b_0-c_0)+a_{1,1}(b_1-c_1)+a_{2,1}(b_2-c_2)+a_{3,1}(b_3-c_3) \\\\\n",
    "a_{0,2}(b_0-c_0)+a_{1,2}(b_1-c_1)+a_{2,2}(b_2-c_2)+a_{3,2}(b_3-c_3)\\\\\n",
    "\\end{pmatrix}^T\n",
    "\\end{equation}"
   ]
  },
  {
   "cell_type": "code",
   "execution_count": 26,
   "id": "10e16ad9",
   "metadata": {
    "scrolled": true
   },
   "outputs": [
    {
     "name": "stdout",
     "output_type": "stream",
     "text": [
      "(4, 3) (4,) (4, 1)\n",
      "int64 int64 float64\n"
     ]
    }
   ],
   "source": [
    "A = np.array([[1,2,3], [4,5,6], [7,8,9], [10, 11, 12]])\n",
    "B = np.array([1, 0, 1,1])\n",
    "C = np.array([[0.1], [0.5], [0.01],[0.99]])\n",
    "\n",
    "# step 1: print shape and datatype\n",
    "print(A.shape, B.shape, C.shape)\n",
    "print(A.dtype, B.dtype, C.dtype)\n",
    "#(4, 3) (4,) (4, 1)\n",
    "#int64 int64 float64\n",
    "\n",
    "\n",
    "# step 2: think about the shape of the target matrix: (1,3)\n",
    "\n",
    "# step 3: think about how to manage the shapes of A, B and C to D while maintain the correct computation"
   ]
  },
  {
   "cell_type": "markdown",
   "id": "103ed218",
   "metadata": {},
   "source": [
    "\\begin{equation}\n",
    "\\begin{pmatrix}\n",
    "a_{0,0}(b_0-c_0) & a_{0,1}(b_0-c_0) & a_{0,2}(b_0-c_0)\\\\\n",
    "a_{1,0}(b_1-c_1) & a_{1,1}(b_1-c_1) & a_{1,2}(b_1-c_1)\\\\\n",
    "a_{2,0}(b_2-c_2) & a_{2,1}(b_2-c_2) & a_{2,2}(b_2-c_2)\\\\\n",
    "a_{3,0}(b_3-c_3) & a_{3,1}(b_3-c_3) & a_{3,2}(b_3-c_3)\\\\\n",
    "\\end{pmatrix}\n",
    "\\end{equation}"
   ]
  },
  {
   "cell_type": "code",
   "execution_count": 27,
   "id": "66bf470f",
   "metadata": {},
   "outputs": [],
   "source": [
    "# broadcasting:\n",
    "diff = (B-C[:,0]); # (4,)\n",
    "D_new = diff.reshape([-1,1])*A # (4,1)*(4,3)\n",
    "D_new = D_new.sum(axis=0)"
   ]
  },
  {
   "cell_type": "markdown",
   "id": "e2e917eb",
   "metadata": {},
   "source": [
    "\\begin{equation}\n",
    "\\begin{pmatrix}\n",
    "b_0-c_0 & b_1-c_1 & b_2-c_2 & b_2-c_2 & b_3-c_3\n",
    "\\end{pmatrix}\n",
    "\\begin{pmatrix}\n",
    "a_{0,0} & a_{0,1} & a_{0,2}\\\\\n",
    "a_{1,0} & a_{1,1} & a_{1,2}\\\\\n",
    "a_{2,0} & a_{2,1} & a_{2,2}\\\\\n",
    "a_{3,0} & a_{3,1} & a_{3,2}\\\\\n",
    "\\end{pmatrix}\n",
    "\\end{equation}"
   ]
  },
  {
   "cell_type": "code",
   "execution_count": 28,
   "id": "e44a8250",
   "metadata": {},
   "outputs": [
    {
     "name": "stdout",
     "output_type": "stream",
     "text": [
      "[[0. 0. 0.]]\n"
     ]
    }
   ],
   "source": [
    "# matrix multiplication\n",
    "diff = diff[None,:] # (1,4)\n",
    "D = diff @ A # (1,4)@(4,3)\n",
    "\n",
    "print(D-D_new)"
   ]
  },
  {
   "cell_type": "markdown",
   "id": "ada8e946",
   "metadata": {},
   "source": [
    "# 4. Plotting"
   ]
  },
  {
   "cell_type": "code",
   "execution_count": null,
   "id": "0fd6651e",
   "metadata": {},
   "outputs": [
    {
     "data": {
      "image/png": "[encoded data removed]",
      "text/plain": [
       "<Figure size 640x480 with 1 Axes>"
      ]
     },
     "metadata": {},
     "output_type": "display_data"
    }
   ],
   "source": [
    "\n",
    "\n",
    "import numpy as np\n",
    "import matplotlib.pyplot as plt\n",
    "\n",
    "# Compute the x and y coordinates for points on sine and cosine curves\n",
    "x = np.arange(0, 3 * np.pi, 0.1)\n",
    "y_sin = np.sin(2x)\n",
    "y_cos = np.cos(2x)\n",
    "\n",
    "# Plot the points using matplotlib\n",
    "plt.plot(x, y_sin)\n",
    "plt.plot(x, y_cos)\n",
    "plt.xlabel('x axis label')\n",
    "plt.ylabel('y axis label')\n",
    "plt.title('Sine and Cosine')\n",
    "plt.legend(['Sine', 'Cosine'])\n",
    "plt.show()"
   ]
  },
  {
   "cell_type": "code",
   "execution_count": 2,
   "id": "5d6bf804",
   "metadata": {},
   "outputs": [
    {
     "data": {
      "image/png": "[encoded data removed]",
      "text/plain": [
       "<Figure size 640x480 with 2 Axes>"
      ]
     },
     "metadata": {},
     "output_type": "display_data"
    }
   ],
   "source": [
    "plt.subplot(2, 1, 1)\n",
    "\n",
    "# Make the first plot\n",
    "plt.plot(x, y_sin)\n",
    "plt.title('Sine')\n",
    "\n",
    "# Set the second subplot as active, and make the second plot.\n",
    "plt.subplot(2, 1, 2)\n",
    "plt.plot(x, y_cos)\n",
    "plt.title('Cosine')\n",
    "\n",
    "# Show the figure.\n",
    "plt.show()"
   ]
  },
  {
   "cell_type": "code",
   "execution_count": null,
   "id": "8f7c3aa6",
   "metadata": {},
   "outputs": [],
   "source": []
  }
 ],
 "metadata": {
  "kernelspec": {
   "display_name": "Python 3 (ipykernel)",
   "language": "python",
   "name": "python3"
  },
  "language_info": {
   "codemirror_mode": {
    "name": "ipython",
    "version": 3
   },
   "file_extension": ".py",
   "mimetype": "text/x-python",
   "name": "python",
   "nbconvert_exporter": "python",
   "pygments_lexer": "ipython3",
   "version": "3.11.4"
  }
 },
 "nbformat": 4,
 "nbformat_minor": 5
}
